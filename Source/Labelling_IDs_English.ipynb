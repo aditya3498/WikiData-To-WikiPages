{
 "cells": [
  {
   "cell_type": "markdown",
   "metadata": {},
   "source": [
    "#### 1. Importing Libraries"
   ]
  },
  {
   "cell_type": "code",
   "execution_count": 1,
   "metadata": {},
   "outputs": [],
   "source": [
    "import json\n",
    "from qwikidata.entity import WikidataItem, WikidataLexeme, WikidataProperty\n",
    "from qwikidata.linked_data_interface import get_entity_dict_from_api\n",
    "import json\n",
    "import time"
   ]
  },
  {
   "cell_type": "markdown",
   "metadata": {},
   "source": [
    "#### 2. Reading Monument List"
   ]
  },
  {
   "cell_type": "code",
   "execution_count": 2,
   "metadata": {},
   "outputs": [],
   "source": [
    "monument_list = []\n",
    "for i in range(1,120):\n",
    "    with open('../Data/Wikidata_JSON/en_monument_dump_part'+str(i)+'.json') as f:\n",
    "        new_list = json.load(f)\n",
    "        monument_list = monument_list + new_list\n",
    "\n",
    "monument_dict = {}\n",
    "for monument in monument_list:\n",
    "    monument_dict[monument['id']] = monument\n",
    "             \n",
    "wikipage_monument_dict = {}\n",
    "for i in range(1,57):\n",
    "    with open('../Data/English_Wikipages/en_articles_part'+str(i)+'.json') as f:\n",
    "        new_dict = json.load(f)\n",
    "        wikipage_monument_dict.update(new_dict) "
   ]
  },
  {
   "cell_type": "markdown",
   "metadata": {},
   "source": [
    "#### 3. Retrieving Labels for Property Value pairs for each monument"
   ]
  },
  {
   "cell_type": "code",
   "execution_count": null,
   "metadata": {
    "scrolled": true
   },
   "outputs": [
    {
     "name": "stdout",
     "output_type": "stream",
     "text": [
      "Checkpoint 1 reached, JSON dumps saved | Time Elapsed: 504.4185357093811\n",
      "Checkpoint 2 reached, JSON dumps saved | Time Elapsed: 766.7574088573456\n"
     ]
    }
   ],
   "source": [
    "labelled_monument_list = {}\n",
    "label_list = {}\n",
    "non_labelled_props = ['P727']\n",
    "\n",
    "t0 = time.time()\n",
    "\n",
    "index = 0\n",
    "\n",
    "count_monuments = 0\n",
    "\n",
    "for monument_id in wikipage_monument_dict.keys():\n",
    "    \n",
    "    monument = monument_dict[monument_id]\n",
    "    \n",
    "    monument_labelled_prop_val = {}\n",
    "    list_prop_value = monument['claims']\n",
    "    list_properties = list(list_prop_value.keys())\n",
    "    \n",
    "    #Removing Properties from list of properties which dont have a wikidata page\n",
    "    for prop in non_labelled_props:\n",
    "        if prop in list_properties:\n",
    "            list_properties.remove(prop)\n",
    "    \n",
    "    list_properties_copy = list_properties\n",
    "    \n",
    "    #Adding all properties to label list. The ones which dont have wikidata pages are stored in non_labelled_props \n",
    "    for prop in list_properties:\n",
    "        if prop not in label_list.keys():\n",
    "            try:\n",
    "                prop_details = get_entity_dict_from_api(prop)\n",
    "                prop_label = prop_details['labels']['en']['value']\n",
    "                label_list[prop] = prop_label\n",
    "            except:\n",
    "                non_labelled_props.append(prop)\n",
    "                list_properties_copy.remove(prop)\n",
    "    \n",
    "    list_properties = list_properties_copy\n",
    "    \n",
    "    #For all values per property, label is extracted for each value ID [Q##### format]\n",
    "    for prop in list_properties:\n",
    "        \n",
    "        labelled_values = []\n",
    "       \n",
    "        for value in list_prop_value[prop]:\n",
    "            \n",
    "            #Entities which directly have a value instead of an ID for an entity are saved\n",
    "            if isinstance(value['mainsnak']['datavalue']['value'], str):\n",
    "                labelled_values.append(value['mainsnak']['datavalue']['value'])\n",
    "            \n",
    "            #There are entities whose values are in form of Dictionary of values and not a string. These types\n",
    "            #are checked here\n",
    "            elif isinstance(value['mainsnak']['datavalue']['value'], dict):\n",
    "                \n",
    "                #Extracting labels for Entities saved in terms of IDs\n",
    "                if 'id' in value['mainsnak']['datavalue']['value'].keys():\n",
    "                    \n",
    "                    value_id = value['mainsnak']['datavalue']['value']['id']\n",
    "                    value_label = ''\n",
    "                    \n",
    "                    #Extracted labels are stored in label_list for faster computation\n",
    "                    if value_id not in label_list.keys():\n",
    "                        \n",
    "                        value_details = get_entity_dict_from_api(value_id)\n",
    "                        \n",
    "                        if 'en' in value_details['labels'].keys():\n",
    "                            value_label = value_details['labels']['en']['value']\n",
    "                            label_list[value_id] = value_label\n",
    "\n",
    "                    if value_label != '' or value_id in label_list.keys():\n",
    "                        labelled_values.append(label_list[value_id])\n",
    "                    \n",
    "                else:\n",
    "                    labelled_values.append(value['mainsnak']['datavalue']['value'])\n",
    "        \n",
    "        if labelled_values:\n",
    "            monument_labelled_prop_val[label_list[prop]] = labelled_values\n",
    "    \n",
    "    labelled_monument_list[monument['id']] = monument_labelled_prop_val\n",
    "    \n",
    "    count_monuments = count_monuments + 1\n",
    "    \n",
    "    if count_monuments%20 == 0:\n",
    "        partition_num = str(count_monuments/20).split('.')[0]\n",
    "        with open('../Data/English_Labelled_Wikidata/en_labelled_part'+ partition_num + '.json', 'w') as fout:\n",
    "            json.dump(labelled_monument_list, fout)\n",
    "        \n",
    "        labelled_monument_list = {}\n",
    "        \n",
    "        print(\"Checkpoint %d reached, JSON dumps saved |\" % (count_monuments/20), end = ' ')\n",
    "        print(\"Time Elapsed:\", end = ' ')\n",
    "        print(time.time()-t0)\n",
    "    \n",
    "t1 = time.time()\n",
    "total = t1-t0"
   ]
  },
  {
   "cell_type": "code",
   "execution_count": null,
   "metadata": {},
   "outputs": [],
   "source": [
    "print(total)\n",
    "len(labelled_monument_list)"
   ]
  },
  {
   "cell_type": "code",
   "execution_count": null,
   "metadata": {},
   "outputs": [],
   "source": []
  }
 ],
 "metadata": {
  "kernelspec": {
   "display_name": "Python 3",
   "language": "python",
   "name": "python3"
  },
  "language_info": {
   "codemirror_mode": {
    "name": "ipython",
    "version": 3
   },
   "file_extension": ".py",
   "mimetype": "text/x-python",
   "name": "python",
   "nbconvert_exporter": "python",
   "pygments_lexer": "ipython3",
   "version": "3.7.3"
  }
 },
 "nbformat": 4,
 "nbformat_minor": 2
}
