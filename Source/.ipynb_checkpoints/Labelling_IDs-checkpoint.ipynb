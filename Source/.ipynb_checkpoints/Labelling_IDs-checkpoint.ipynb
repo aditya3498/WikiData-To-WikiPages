{
 "cells": [
  {
   "cell_type": "markdown",
   "metadata": {},
   "source": [
    "#### 1. Importing Libraries"
   ]
  },
  {
   "cell_type": "code",
   "execution_count": 1,
   "metadata": {},
   "outputs": [],
   "source": [
    "import json\n",
    "from qwikidata.entity import WikidataItem, WikidataLexeme, WikidataProperty\n",
    "from qwikidata.linked_data_interface import get_entity_dict_from_api\n",
    "import json\n",
    "import time"
   ]
  },
  {
   "cell_type": "markdown",
   "metadata": {},
   "source": [
    "#### 2. Reading Monument List"
   ]
  },
  {
   "cell_type": "code",
   "execution_count": 2,
   "metadata": {},
   "outputs": [],
   "source": [
    "monument_list = []\n",
    "\n",
    "with open('../Data/Wikidata_JSON/hi_monument_dump.json') as f:\n",
    "    new_list = json.load(f)\n",
    "    monument_list = monument_list + new_list"
   ]
  },
  {
   "cell_type": "markdown",
   "metadata": {},
   "source": [
    "#### 3. Retrieving Labels for Property Value pairs for each monument"
   ]
  },
  {
   "cell_type": "code",
   "execution_count": null,
   "metadata": {
    "scrolled": true
   },
   "outputs": [],
   "source": [
    "labelled_monument_list = {}\n",
    "label_list = {}\n",
    "non_labelled_props = ['P727', 'P1619']\n",
    "\n",
    "t0 = time.time()\n",
    "\n",
    "index = 0\n",
    "\n",
    "\n",
    "\n",
    "for monument in monument_list:\n",
    "    \n",
    "    monument_labelled_prop_val = {}\n",
    "    list_prop_value = monument['claims']\n",
    "    list_properties = list(list_prop_value.keys())\n",
    "    \n",
    "    for prop in non_labelled_props:\n",
    "        if prop in list_properties:\n",
    "            list_properties.remove(prop)\n",
    "    \n",
    "    for prop in list_properties:\n",
    "        \n",
    "        if prop not in label_list.keys():\n",
    "            prop_details = get_entity_dict_from_api(prop)\n",
    "            prop_label = prop_details['labels']['en']['value']\n",
    "            label_list[prop] = prop_label\n",
    "        \n",
    "        labelled_values = []\n",
    "       \n",
    "        for value in list_prop_value[prop]:\n",
    "            \n",
    "            if isinstance(value['mainsnak']['datavalue']['value'], str):\n",
    "                labelled_values.append(value['mainsnak']['datavalue']['value'])\n",
    "            \n",
    "            elif isinstance(value['mainsnak']['datavalue']['value'], dict):\n",
    "                \n",
    "                if 'id' in value['mainsnak']['datavalue']['value'].keys():\n",
    "                    \n",
    "                    value_id = value['mainsnak']['datavalue']['value']['id']\n",
    "                    value_label = ''\n",
    "                    \n",
    "                    if value_id not in label_list.keys():\n",
    "                        \n",
    "                        value_details = get_entity_dict_from_api(value_id)\n",
    "                        \n",
    "                        if 'en' in value_details['labels'].keys():\n",
    "                            value_label = value_details['labels']['en']['value']\n",
    "                            label_list[value_id] = value_label\n",
    "\n",
    "                    if value_label != '':\n",
    "                        labelled_values.append(label_list[value_id])\n",
    "                    \n",
    "                else:\n",
    "                    labelled_values.append(value['mainsnak']['datavalue']['value'])\n",
    "        \n",
    "        if labelled_values:\n",
    "            monument_labelled_prop_val[label_list[prop]] = labelled_values\n",
    "    \n",
    "    labelled_monument_list[monument['id']] = monument_labelled_prop_val\n",
    "    index+=1\n",
    "    print(index)\n",
    "    \n",
    "t1 = time.time()\n",
    "total = t1-t0"
   ]
  },
  {
   "cell_type": "code",
   "execution_count": null,
   "metadata": {},
   "outputs": [],
   "source": [
    "with open('../Data/Hindi_Labelled_Wikipages/labelled_prop_values.json', 'w') as f:\n",
    "    json.dump(labelled_monument_list, f)"
   ]
  },
  {
   "cell_type": "code",
   "execution_count": null,
   "metadata": {},
   "outputs": [],
   "source": [
    "labelled_monument_list"
   ]
  },
  {
   "cell_type": "code",
   "execution_count": null,
   "metadata": {},
   "outputs": [],
   "source": []
  }
 ],
 "metadata": {
  "kernelspec": {
   "display_name": "Python 3",
   "language": "python",
   "name": "python3"
  },
  "language_info": {
   "codemirror_mode": {
    "name": "ipython",
    "version": 3
   },
   "file_extension": ".py",
   "mimetype": "text/x-python",
   "name": "python",
   "nbconvert_exporter": "python",
   "pygments_lexer": "ipython3",
   "version": "3.7.3"
  }
 },
 "nbformat": 4,
 "nbformat_minor": 2
}
