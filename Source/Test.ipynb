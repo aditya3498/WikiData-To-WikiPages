{
 "cells": [
  {
   "cell_type": "code",
   "execution_count": 2,
   "metadata": {},
   "outputs": [
    {
     "name": "stdout",
     "output_type": "stream",
     "text": [
      "9143\n"
     ]
    }
   ],
   "source": [
    "import json\n",
    "monument_list = []\n",
    "for i in range(1,71):\n",
    "    with open('../Data/en_monument_dump_part'+str(i)+'.json') as f:\n",
    "        new_list = json.load(f)\n",
    "        monument_list = monument_list + new_list\n",
    "print(len(monument_list))"
   ]
  },
  {
   "cell_type": "code",
   "execution_count": null,
   "metadata": {},
   "outputs": [],
   "source": []
  }
 ],
 "metadata": {
  "kernelspec": {
   "display_name": "Python 3",
   "language": "python",
   "name": "python3"
  },
  "language_info": {
   "codemirror_mode": {
    "name": "ipython",
    "version": 3
   },
   "file_extension": ".py",
   "mimetype": "text/x-python",
   "name": "python",
   "nbconvert_exporter": "python",
   "pygments_lexer": "ipython3",
   "version": "3.7.3"
  }
 },
 "nbformat": 4,
 "nbformat_minor": 2
}
